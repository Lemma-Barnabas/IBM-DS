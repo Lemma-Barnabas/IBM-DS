{
 "cells": [
  {
   "cell_type": "markdown",
   "id": "d88f9a37",
   "metadata": {},
   "source": [
    "# Data Science Tools and Ecosystem"
   ]
  },
  {
   "cell_type": "markdown",
   "id": "132a07d9",
   "metadata": {},
   "source": [
    "In this notebook, Data Science Tools and Ecosystem are summarized."
   ]
  },
  {
   "cell_type": "markdown",
   "id": "0e8c3423",
   "metadata": {},
   "source": [
    "**Objectives:**\n",
    "* List popular languages for Data Science\n",
    "* List commonly used libraries by Data Scienctists\n",
    "* Data science Tools\n",
    "* Arthimetic Expressions in Phyton"
   ]
  },
  {
   "cell_type": "markdown",
   "id": "432104d8",
   "metadata": {},
   "source": [
    "Some of the popular languages that Data Scientinsts use are:\n",
    "1. phyton\n",
    "2. R\n",
    "3. SQL\n",
    "4. JAVA\n",
    "5. Scala\n"
   ]
  },
  {
   "cell_type": "markdown",
   "id": "b47714d7",
   "metadata": {},
   "source": [
    "Some of the commonly used libraries used by Data Scientists include:\n",
    "1. Pandas\n",
    "2. NumPy\n",
    "3. Scikit-learn\n",
    "4. dplyr\n",
    "5. ggplot2\n",
    "6. caret\n",
    "7. SQLAlchemy"
   ]
  },
  {
   "cell_type": "markdown",
   "id": "de1cbcdc",
   "metadata": {},
   "source": [
    "| Data Science Tools |\n",
    "|--------------------|\n",
    "| Jupyter Notebook   |\n",
    "| RStudio            |\n",
    "| Apache Zeppelin    |\n",
    "\n",
    "\n",
    "\n",
    "\n"
   ]
  },
  {
   "cell_type": "markdown",
   "id": "ce29faf8",
   "metadata": {},
   "source": [
    "###  Below are a few examples of evaluating arithmetic expressions in Python"
   ]
  },
  {
   "cell_type": "code",
   "execution_count": 8,
   "id": "c7b068df",
   "metadata": {},
   "outputs": [
    {
     "data": {
      "text/plain": [
       "17"
      ]
     },
     "execution_count": 8,
     "metadata": {},
     "output_type": "execute_result"
    }
   ],
   "source": [
    "# This a simple atithmetic expression to multiply then add integers\n",
    "\n",
    "(3*4)+5"
   ]
  },
  {
   "cell_type": "code",
   "execution_count": 10,
   "id": "704c9363",
   "metadata": {},
   "outputs": [
    {
     "data": {
      "text/plain": [
       "3.3333333333333335"
      ]
     },
     "execution_count": 10,
     "metadata": {},
     "output_type": "execute_result"
    }
   ],
   "source": [
    "# This will convert 200 minutes to hours by diving by 60\n",
    "\n",
    "200/ 60\n"
   ]
  },
  {
   "cell_type": "markdown",
   "id": "b4bbcace",
   "metadata": {},
   "source": [
    "## Author\n",
    "Barnabas Jema Lemma"
   ]
  },
  {
   "cell_type": "code",
   "execution_count": null,
   "id": "7ebf9d57",
   "metadata": {},
   "outputs": [],
   "source": []
  }
 ],
 "metadata": {
  "kernelspec": {
   "display_name": "Python 3 (ipykernel)",
   "language": "python",
   "name": "python3"
  },
  "language_info": {
   "codemirror_mode": {
    "name": "ipython",
    "version": 3
   },
   "file_extension": ".py",
   "mimetype": "text/x-python",
   "name": "python",
   "nbconvert_exporter": "python",
   "pygments_lexer": "ipython3",
   "version": "3.10.9"
  }
 },
 "nbformat": 4,
 "nbformat_minor": 5
}
